{
  "nbformat": 4,
  "nbformat_minor": 0,
  "metadata": {
    "colab": {
      "provenance": []
    },
    "kernelspec": {
      "name": "python3",
      "display_name": "Python 3"
    },
    "language_info": {
      "name": "python"
    }
  },
  "cells": [
    {
      "cell_type": "code",
      "source": [
        "def is_prime(num):\n",
        "  \"\"\"Checks if a number is prime.\n",
        "\n",
        "  Args:\n",
        "    num: The number to check.\n",
        "\n",
        "  Returns:\n",
        "    True if the number is prime, False otherwise.\n",
        "  \"\"\"\n",
        "\n",
        "  if num <= 1:\n",
        "    return False\n",
        "  if num <= 3:\n",
        "    return True\n",
        "\n",
        "  for i in range(2, int(num**0.5) + 1):\n",
        "    if num % i == 0:\n",
        "      return False\n",
        "\n",
        "  return True\n",
        "\n",
        "import unittest\n",
        "\n",
        "class TestIsPrime(unittest.TestCase):\n",
        "  def test_prime_numbers(self):\n",
        "    self.assertTrue(is_prime(2))\n",
        "    self.assertTrue(is_prime(3))\n",
        "    self.assertTrue(is_prime(5))\n",
        "    self.assertTrue(is_prime(7))\n",
        "    self.assertTrue(is_prime(11))\n",
        "    self.assertTrue(is_prime(13))\n",
        "\n",
        "  def test_non_prime_numbers(self):\n",
        "    self.assertFalse(is_prime(1))\n",
        "    self.assertFalse(is_prime(4))\n",
        "    self.assertFalse(is_prime(6))\n",
        "    self.assertFalse(is_prime(9))\n",
        "    self.assertFalse(is_prime(10))\n",
        "    self.assertFalse(is_prime(12))\n",
        "\n",
        "if __name__ == '__main__':\n",
        "  # To avoid SystemExit: True, use exit=False\n",
        "  unittest.main(argv=['first-arg-is-ignored'], exit=False)\n"
      ],
      "metadata": {
        "colab": {
          "base_uri": "https://localhost:8080/"
        },
        "id": "-iYL4OZLSLeD",
        "outputId": "7d0570cd-1def-4a34-f9aa-f36eef62dcf8"
      },
      "execution_count": 18,
      "outputs": [
        {
          "output_type": "stream",
          "name": "stderr",
          "text": [
            "..............\n",
            "----------------------------------------------------------------------\n",
            "Ran 14 tests in 0.024s\n",
            "\n",
            "OK\n"
          ]
        }
      ]
    }
  ]
}