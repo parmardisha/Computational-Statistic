{
  "nbformat": 4,
  "nbformat_minor": 0,
  "metadata": {
    "colab": {
      "provenance": []
    },
    "kernelspec": {
      "name": "python3",
      "display_name": "Python 3"
    },
    "language_info": {
      "name": "python"
    }
  },
  "cells": [
    {
      "cell_type": "code",
      "source": [
        "hashtable={}\n",
        "\n",
        "def add_pair(key,value):\n",
        "    hashtable[key] = value\n",
        "\n",
        "# Define get_value outside add_pair function\n",
        "def get_value(key):\n",
        "    return hashtable.get(key,\"not not found\")\n",
        "\n",
        "add_pair(\"name\",\"Disha\")\n",
        "add_pair(\"age\",20)\n",
        "add_pair(\"city\",\"Indore\")\n",
        "add_pair(\"country\",\"India\")\n",
        "\n",
        "print(\"name:\", get_value(\"name\"))\n",
        "print(\"age:\", get_value(\"age\"))\n",
        "print(\"city:\",get_value(\"city\"))\n",
        "print(\"country:\",get_value(\"country\"))"
      ],
      "metadata": {
        "colab": {
          "base_uri": "https://localhost:8080/"
        },
        "id": "N9eON2AjYxZa",
        "outputId": "80bc0514-1cef-47a8-8fb6-58871259cbbb"
      },
      "execution_count": 39,
      "outputs": [
        {
          "output_type": "stream",
          "name": "stdout",
          "text": [
            "name: Disha\n",
            "age: 20\n",
            "city: Indore\n",
            "country: India\n"
          ]
        }
      ]
    }
  ]
}