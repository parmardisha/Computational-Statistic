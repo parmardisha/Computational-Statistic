{
  "nbformat": 4,
  "nbformat_minor": 0,
  "metadata": {
    "colab": {
      "provenance": []
    },
    "kernelspec": {
      "name": "python3",
      "display_name": "Python 3"
    },
    "language_info": {
      "name": "python"
    }
  },
  "cells": [
    {
      "cell_type": "code",
      "source": [
        "from collections import deque\n",
        "\n",
        "def bfs(graph, start):\n",
        "    visited = []  # List to keep track of visited nodes\n",
        "    queue = deque([start])  # Initialize a queue with the starting node\n",
        "\n",
        "    while queue:\n",
        "        node = queue.popleft()  # Dequeue the next node\n",
        "\n",
        "        if node not in visited:\n",
        "            visited.append(node)  # Mark the node as visited\n",
        "            # Add neighbors to the queue if they haven't been visited\n",
        "            queue.extend(neighbor for neighbor in graph[node] if neighbor not in visited)\n",
        "\n",
        "    return visited  # Return the list of visited nodes\n",
        "\n",
        "# Example graph (same as yours)\n",
        "graph = {\n",
        "    'A': ['B', 'C'],\n",
        "    'B': ['A', 'D', 'E'],\n",
        "    'C': ['A', 'F'],\n",
        "    'D': ['B'],\n",
        "    'E': ['B', 'F'],\n",
        "    'F': ['C', 'E']\n",
        "}\n",
        "\n",
        "# Perform BFS starting from node 'A'\n",
        "visited_nodes = bfs(graph, 'A')\n",
        "print(visited_nodes)  # To see the output, run the code"
      ],
      "metadata": {
        "id": "qpXcvQyJchUb",
        "outputId": "900f9514-9c20-442d-d73e-e8dd5b1d8947",
        "colab": {
          "base_uri": "https://localhost:8080/"
        }
      },
      "execution_count": 44,
      "outputs": [
        {
          "output_type": "stream",
          "name": "stdout",
          "text": [
            "['A', 'B', 'C', 'D', 'E', 'F']\n"
          ]
        }
      ]
    }
  ]
}