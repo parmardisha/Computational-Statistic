{
  "nbformat": 4,
  "nbformat_minor": 0,
  "metadata": {
    "colab": {
      "provenance": []
    },
    "kernelspec": {
      "name": "python3",
      "display_name": "Python 3"
    },
    "language_info": {
      "name": "python"
    }
  },
  "cells": [
    {
      "cell_type": "code",
      "source": [
        "def create_inventory():\n",
        "  \"\"\"Creates an empty inventory.\"\"\"\n",
        "  return {}\n",
        "\n",
        "def add_item(inventory, item_name, quantity):\n",
        "  \"\"\"Adds an item to the inventory or updates the quantity if it exists.\n",
        "\n",
        "  Args:\n",
        "    inventory: The inventory dictionary.\n",
        "    item_name: The name of the item.\n",
        "    quantity: The quantity of the item to add.\n",
        "  \"\"\"\n",
        "  if item_name in inventory:\n",
        "    inventory[item_name] += quantity\n",
        "  else:\n",
        "    inventory[item_name] = quantity\n",
        "  print(f\"{quantity} {item_name}(s) added to inventory.\")\n",
        "\n",
        "def remove_item(inventory, item_name, quantity):\n",
        "  \"\"\"Removes an item from the inventory or decreases the quantity if it exists.\n",
        "\n",
        "  Args:\n",
        "    inventory: The inventory dictionary.\n",
        "    item_name: The name of the item.\n",
        "    quantity: The quantity of the item to remove.\n",
        "  \"\"\"\n",
        "  if item_name in inventory:\n",
        "    if inventory[item_name] >= quantity:\n",
        "      inventory[item_name] -= quantity\n",
        "      print(f\"{quantity} {item_name}(s) removed from inventory.\")\n",
        "    else:\n",
        "      print(f\"Not enough {item_name} in inventory.\")\n",
        "  else:\n",
        "    print(f\"{item_name} not found in inventory.\")\n",
        "\n",
        "def display_inventory(inventory):\n",
        "  \"\"\"Displays the current inventory.\"\"\"\n",
        "  print(\"Current Inventory:\")\n",
        "  for item_name, quantity in inventory.items():\n",
        "    print(f\"{item_name}: {quantity}\")\n",
        "\n",
        "# Example usage:\n",
        "inventory = create_inventory()\n",
        "add_item(inventory, \"apple\", 10)\n",
        "add_item(inventory, \"banana\", 5)\n",
        "remove_item(inventory, \"apple\", 3)\n",
        "display_inventory(inventory)"
      ],
      "metadata": {
        "id": "FJSdvF8SgWaJ",
        "outputId": "a93ca53d-b1a2-4a71-be47-fa2455ab04aa",
        "colab": {
          "base_uri": "https://localhost:8080/"
        }
      },
      "execution_count": 52,
      "outputs": [
        {
          "output_type": "stream",
          "name": "stdout",
          "text": [
            "10 apple(s) added to inventory.\n",
            "5 banana(s) added to inventory.\n",
            "3 apple(s) removed from inventory.\n",
            "Current Inventory:\n",
            "apple: 7\n",
            "banana: 5\n"
          ]
        }
      ]
    }
  ]
}