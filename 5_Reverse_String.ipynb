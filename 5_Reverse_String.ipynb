{
  "cells": [
    {
      "cell_type": "code",
      "source": [
        "def reverse_string(word):\n",
        "  reversed_word = \"\"\n",
        "  for letter in word:\n",
        "    reversed_word = letter + reversed_word\n",
        "  return reversed_word\n",
        "\n",
        "word = input(\"Enter a word: \")\n",
        "reversed_word = reverse_string(word)\n",
        "print(\"Reversed word:\", reversed_word)"
      ],
      "metadata": {
        "colab": {
          "base_uri": "https://localhost:8080/"
        },
        "id": "ci_ibskVZFtN",
        "outputId": "0e902b1c-dc19-4da8-e644-1b0df5b0de88"
      },
      "execution_count": 2,
      "outputs": [
        {
          "output_type": "stream",
          "name": "stdout",
          "text": [
            "Enter a word: hello\n",
            "Reversed word: olleh\n"
          ]
        }
      ]
    }
  ],
  "metadata": {
    "colab": {
      "provenance": []
    },
    "kernelspec": {
      "display_name": "Python 3",
      "name": "python3"
    }
  },
  "nbformat": 4,
  "nbformat_minor": 0
}