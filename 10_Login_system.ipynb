{
  "cells": [
    {
      "cell_type": "code",
      "source": [
        "data_stores = {\n",
        "    \"Disha Parmar\": \"9630\",\n",
        "    \"dp\": \"1140\"\n",
        "}\n",
        "\n",
        "username = input(\"Enter your username: \")\n",
        "password = input(\"Enter your password: \")\n",
        "\n",
        "if username in data_stores and password == data_stores[username]:\n",
        "   print(\"Login succesful!\")\n",
        "else:\n",
        "   print(\"Wrong password. \")\n",
        ""
      ],
      "metadata": {
        "colab": {
          "base_uri": "https://localhost:8080/"
        },
        "id": "DJ_815HWbKM8",
        "outputId": "38f6a515-38c3-44a0-d8d4-88cb5b05ada5"
      },
      "execution_count": 8,
      "outputs": [
        {
          "output_type": "stream",
          "name": "stdout",
          "text": [
            "Enter your username: dp\n",
            "Enter your password: 1140\n",
            "Login succesful!\n"
          ]
        }
      ]
    }
  ],
  "metadata": {
    "colab": {
      "provenance": []
    },
    "kernelspec": {
      "display_name": "Python 3",
      "name": "python3"
    }
  },
  "nbformat": 4,
  "nbformat_minor": 0
}