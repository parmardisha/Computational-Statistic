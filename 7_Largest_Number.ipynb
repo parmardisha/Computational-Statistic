{
  "cells": [
    {
      "cell_type": "code",
      "source": [
        "num1 = float(input(\"Enter the first number: \"))\n",
        "num2 = float(input(\"Enter the second number: \"))\n",
        "num3 = float(input(\"Enter the third number: \"))\n",
        "\n",
        "largest_number = max(num1, num2, num3)\n",
        "\n",
        "print(\"The largest number is:\", largest_number)"
      ],
      "metadata": {
        "colab": {
          "base_uri": "https://localhost:8080/"
        },
        "id": "mAUZadV0aJpm",
        "outputId": "21997c50-8212-45c9-f4b4-dfc45fb9d7d4"
      },
      "execution_count": 4,
      "outputs": [
        {
          "output_type": "stream",
          "name": "stdout",
          "text": [
            "Enter the first number: 2\n",
            "Enter the second number: 4\n",
            "Enter the third number: 6\n",
            "The largest number is: 6.0\n"
          ]
        }
      ]
    }
  ],
  "metadata": {
    "colab": {
      "provenance": []
    },
    "kernelspec": {
      "display_name": "Python 3",
      "name": "python3"
    }
  },
  "nbformat": 4,
  "nbformat_minor": 0
}