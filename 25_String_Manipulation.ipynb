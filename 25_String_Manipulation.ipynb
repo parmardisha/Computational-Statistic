{
  "nbformat": 4,
  "nbformat_minor": 0,
  "metadata": {
    "colab": {
      "provenance": []
    },
    "kernelspec": {
      "name": "python3",
      "display_name": "Python 3"
    },
    "language_info": {
      "name": "python"
    }
  },
  "cells": [
    {
      "cell_type": "code",
      "source": [
        "def reverse_string(string):\n",
        "    return string[::-1]\n",
        "\n",
        "def count_vowels(string):\n",
        "    vowels = \"aeiouAEIOU\"\n",
        "    count = 0\n",
        "    for char in string:\n",
        "        if char in vowels:\n",
        "            count += 1\n",
        "    return count\n",
        "\n",
        "# Example usage:\n",
        "my_string = \"Hello, World!\"\n",
        "\n",
        "# Reverse the string\n",
        "reversed_string = reverse_string(my_string)\n",
        "print(\"Reversed string:\", reversed_string)\n",
        "\n",
        "# Count vowels in the string\n",
        "vowel_count = count_vowels(my_string)\n",
        "print(\"Number of vowels:\", vowel_count)"
      ],
      "metadata": {
        "colab": {
          "base_uri": "https://localhost:8080/"
        },
        "id": "obH78EqZOYHN",
        "outputId": "bcca3471-033f-4ce6-db8c-a1ed0d15bbab"
      },
      "execution_count": 2,
      "outputs": [
        {
          "output_type": "stream",
          "name": "stdout",
          "text": [
            "Reversed string: !dlroW ,olleH\n",
            "Number of vowels: 3\n"
          ]
        }
      ]
    }
  ]
}