{
  "nbformat": 4,
  "nbformat_minor": 0,
  "metadata": {
    "colab": {
      "provenance": []
    },
    "kernelspec": {
      "name": "python3",
      "display_name": "Python 3"
    },
    "language_info": {
      "name": "python"
    }
  },
  "cells": [
    {
      "cell_type": "code",
      "source": [
        "def factorial(n):\n",
        "  if n == 0:\n",
        "    return 1\n",
        "  else:\n",
        "    # Bug: n + 1 instead of n - 1\n",
        "    # return n * factorial(n + 1)\n",
        "\n",
        "    # Corrected:\n",
        "    return n * factorial(n - 1)\n",
        "\n",
        "# Example usage:\n",
        "num = 5\n",
        "result = factorial(num)\n",
        "print(\"The factorial of\", num, \"is:\", result)"
      ],
      "metadata": {
        "colab": {
          "base_uri": "https://localhost:8080/"
        },
        "id": "GMx226UlSmFk",
        "outputId": "f2c306a0-3acc-4239-b0f7-da77a53bea13"
      },
      "execution_count": 20,
      "outputs": [
        {
          "output_type": "stream",
          "name": "stdout",
          "text": [
            "The factorial of 5 is: 120\n"
          ]
        }
      ]
    }
  ]
}