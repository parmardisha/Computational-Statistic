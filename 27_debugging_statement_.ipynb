{
  "nbformat": 4,
  "nbformat_minor": 0,
  "metadata": {
    "colab": {
      "provenance": []
    },
    "kernelspec": {
      "name": "python3",
      "display_name": "Python 3"
    },
    "language_info": {
      "name": "python"
    }
  },
  "cells": [
    {
      "cell_type": "code",
      "source": [
        "def my_function(x, y):\n",
        "    print(\"Function called with x =\", x, \"and y =\", y)\n",
        "    result = x * y\n",
        "    print(\"Result:\", result)\n",
        "    return result\n",
        "\n",
        "result = my_function(5, 3)\n",
        "\n",
        "print(\"Returned result:\", result)"
      ],
      "metadata": {
        "colab": {
          "base_uri": "https://localhost:8080/"
        },
        "id": "q3NIZkBJRnhb",
        "outputId": "c0b58f1a-efd2-4b1d-ec6d-df5c9ddb4902"
      },
      "execution_count": 16,
      "outputs": [
        {
          "output_type": "stream",
          "name": "stdout",
          "text": [
            "Function called with x = 5 and y = 3\n",
            "Result: 15\n",
            "Returned result: 15\n"
          ]
        }
      ]
    }
  ]
}