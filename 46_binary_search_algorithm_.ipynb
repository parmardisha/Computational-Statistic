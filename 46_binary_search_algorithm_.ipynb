{
  "nbformat": 4,
  "nbformat_minor": 0,
  "metadata": {
    "colab": {
      "provenance": []
    },
    "kernelspec": {
      "name": "python3",
      "display_name": "Python 3"
    },
    "language_info": {
      "name": "python"
    }
  },
  "cells": [
    {
      "cell_type": "code",
      "source": [
        "def binary_search(arr,target):\n",
        "    left, right =0,len(arr)-1\n",
        "\n",
        "    while left<=right:\n",
        "        mid=left+(right-left)//2\n",
        "\n",
        "        if arr[mid]==target:\n",
        "            return mid\n",
        "        elif arr[mid] <target:\n",
        "            left=mid+1\n",
        "        else:\n",
        "            right=mid-1\n",
        "        return -1\n",
        "\n",
        "\n",
        "arr=[2,6,8,4,3,70,50]\n",
        "target=6\n",
        "\n",
        "result =binary_search(arr,target)\n",
        "if result !=-1:\n",
        "    print(f\"elemnt is present at index {result}\")\n",
        "else:\n",
        "    print(\"element is not present in array \")"
      ],
      "metadata": {
        "colab": {
          "base_uri": "https://localhost:8080/"
        },
        "id": "m_vOyOOZXRPT",
        "outputId": "7f4cbb13-19d6-4b3e-b70e-b61dd95f253a"
      },
      "execution_count": 34,
      "outputs": [
        {
          "output_type": "stream",
          "name": "stdout",
          "text": [
            "element is not present in array \n"
          ]
        }
      ]
    }
  ]
}