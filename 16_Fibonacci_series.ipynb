{
  "cells": [
    {
      "cell_type": "code",
      "source": [
        "def fibonacci(n):\n",
        "  fib_numbers = [0, 1]\n",
        "  for i in range(2, n):\n",
        "    next_fib = fib_numbers[i-1] + fib_numbers[i-2]\n",
        "    fib_numbers.append(next_fib)\n",
        "  return fib_numbers\n",
        "\n",
        "print(fibonacci(10))"
      ],
      "metadata": {
        "colab": {
          "base_uri": "https://localhost:8080/"
        },
        "id": "_GWsNh6gf_8j",
        "outputId": "b51f89a0-a18b-4b60-d034-92b51a8deb30"
      },
      "execution_count": 19,
      "outputs": [
        {
          "output_type": "stream",
          "name": "stdout",
          "text": [
            "[0, 1, 1, 2, 3, 5, 8, 13, 21, 34]\n"
          ]
        }
      ]
    }
  ],
  "metadata": {
    "colab": {
      "provenance": []
    },
    "kernelspec": {
      "display_name": "Python 3",
      "name": "python3"
    }
  },
  "nbformat": 4,
  "nbformat_minor": 0
}