{
  "cells": [
    {
      "cell_type": "code",
      "source": [
        "sentence = input(\"Enter a  String: \")\n",
        "\n",
        "without_whitespace = sentence.replace(\" \", \"\")\n",
        "\n",
        "print(\"string without whitespace:\", without_whitespace)"
      ],
      "metadata": {
        "colab": {
          "base_uri": "https://localhost:8080/"
        },
        "id": "i3GvrJbwb7Ok",
        "outputId": "a0182c39-ce31-423c-bcd7-d8ab9c3fcba7"
      },
      "execution_count": 14,
      "outputs": [
        {
          "output_type": "stream",
          "name": "stdout",
          "text": [
            "Enter a  String: hello world\n",
            "string without whitespace: helloworld\n"
          ]
        }
      ]
    }
  ],
  "metadata": {
    "colab": {
      "provenance": []
    },
    "kernelspec": {
      "display_name": "Python 3",
      "name": "python3"
    }
  },
  "nbformat": 4,
  "nbformat_minor": 0
}