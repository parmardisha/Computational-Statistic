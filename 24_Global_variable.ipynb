{
  "nbformat": 4,
  "nbformat_minor": 0,
  "metadata": {
    "colab": {
      "provenance": []
    },
    "kernelspec": {
      "name": "python3",
      "display_name": "Python 3"
    },
    "language_info": {
      "name": "python"
    }
  },
  "cells": [
    {
      "cell_type": "code",
      "execution_count": 1,
      "metadata": {
        "colab": {
          "base_uri": "https://localhost:8080/"
        },
        "id": "oV7JW-U7NymU",
        "outputId": "a3bc79e5-6eb6-4916-a818-c15b39630ce4"
      },
      "outputs": [
        {
          "output_type": "stream",
          "name": "stdout",
          "text": [
            "10\n",
            "11\n",
            "12\n"
          ]
        }
      ],
      "source": [
        "global_var = 10\n",
        "\n",
        "def increment_global():\n",
        "  global global_var\n",
        "  global_var += 1\n",
        "\n",
        "def print_global():\n",
        "  print(global_var)\n",
        "\n",
        "#for print\n",
        "print_global()\n",
        "increment_global()\n",
        "print_global()\n",
        "increment_global()\n",
        "print_global()"
      ]
    }
  ]
}