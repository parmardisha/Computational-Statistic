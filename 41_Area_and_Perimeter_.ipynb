{
  "nbformat": 4,
  "nbformat_minor": 0,
  "metadata": {
    "colab": {
      "provenance": []
    },
    "kernelspec": {
      "name": "python3",
      "display_name": "Python 3"
    },
    "language_info": {
      "name": "python"
    }
  },
  "cells": [
    {
      "cell_type": "code",
      "source": [
        "class rectangle:\n",
        "    def __init__(self,length,width):\n",
        "\n",
        "        self.length = length\n",
        "        self.width = width\n",
        "\n",
        "    def area(self):\n",
        "\n",
        "        return self.length * self.width\n",
        "    def perimeter (self):\n",
        "\n",
        "        return 2*(self.length + self.width)\n",
        "  #example usage\n",
        "rectangle = rectangle(4,8)\n",
        "print(\"area:\", rectangle.area())\n",
        "print(\"perimeter:\",rectangle.perimeter())\n"
      ],
      "metadata": {
        "colab": {
          "base_uri": "https://localhost:8080/"
        },
        "id": "bQvy3esfUQSb",
        "outputId": "6e375ca4-32da-4912-c916-2444c750148b"
      },
      "execution_count": 23,
      "outputs": [
        {
          "output_type": "stream",
          "name": "stdout",
          "text": [
            "area: 32\n",
            "perimeter: 24\n"
          ]
        }
      ]
    }
  ]
}