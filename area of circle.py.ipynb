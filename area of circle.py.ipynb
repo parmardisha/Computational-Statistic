{
  "nbformat": 4,
  "nbformat_minor": 0,
  "metadata": {
    "colab": {
      "provenance": []
    },
    "kernelspec": {
      "name": "python3",
      "display_name": "Python 3"
    },
    "language_info": {
      "name": "python"
    }
  },
  "cells": [
    {
      "cell_type": "code",
      "execution_count": null,
      "metadata": {
        "id": "J-ijtMIKRlRv"
      },
      "outputs": [],
      "source": [
        "radius = float(input(\"Enter the radius of the circle: \"))\n",
        "\n",
        "area = 3.14159 * radius * radius\n",
        "\n",
        "print(\"The area of the circle is:\", area)"
      ]
    }
  ]
}