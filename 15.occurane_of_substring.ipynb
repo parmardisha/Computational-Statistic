{
  "cells": [
    {
      "cell_type": "code",
      "source": [
        "text = \"Hello world , Hello guys\"\n",
        "old_word = \"Hello\"\n",
        "new_word =\"Hi\"\n",
        "\n",
        "new_text = text.replace(old_word, new_word)\n",
        "\n",
        "print(new_text)"
      ],
      "metadata": {
        "colab": {
          "base_uri": "https://localhost:8080/"
        },
        "id": "HVdNrrm_d4ls",
        "outputId": "b5871ce6-ceae-4022-9b95-5c90dcc8782b"
      },
      "execution_count": 18,
      "outputs": [
        {
          "output_type": "stream",
          "name": "stdout",
          "text": [
            "Hi world , Hi guys\n"
          ]
        }
      ]
    }
  ],
  "metadata": {
    "colab": {
      "provenance": []
    },
    "kernelspec": {
      "display_name": "Python 3",
      "name": "python3"
    }
  },
  "nbformat": 4,
  "nbformat_minor": 0
}