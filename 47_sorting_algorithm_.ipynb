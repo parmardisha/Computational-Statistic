{
  "nbformat": 4,
  "nbformat_minor": 0,
  "metadata": {
    "colab": {
      "provenance": []
    },
    "kernelspec": {
      "name": "python3",
      "display_name": "Python 3"
    },
    "language_info": {
      "name": "python"
    }
  },
  "cells": [
    {
      "cell_type": "code",
      "source": [
        "def bubble_sort(list_):\n",
        "  n = len(list_)\n",
        "  for i in range(n):\n",
        "    for j in range(0, n - i - 1):\n",
        "      if list_[j] > list_[j + 1]:\n",
        "        list_[j], list_[j + 1] = list_[j + 1], list_[j]\n",
        "  return list_\n",
        "\n",
        "# Test the function\n",
        "numbers = [5, 2, 8, 1, 9, 3]\n",
        "sorted_numbers = bubble_sort(numbers.copy()) # using copy to avoid modifying original list\n",
        "\n",
        "print(f\"Original list: {numbers}\")\n",
        "print(f\"Sorted list: {sorted_numbers}\")"
      ],
      "metadata": {
        "colab": {
          "base_uri": "https://localhost:8080/"
        },
        "id": "ceEKsGJTX5bD",
        "outputId": "1c218b7c-c45b-4e13-a421-f16742351cbe"
      },
      "execution_count": 35,
      "outputs": [
        {
          "output_type": "stream",
          "name": "stdout",
          "text": [
            "Original list: [5, 2, 8, 1, 9, 3]\n",
            "Sorted list: [1, 2, 3, 5, 8, 9]\n"
          ]
        }
      ]
    }
  ]
}