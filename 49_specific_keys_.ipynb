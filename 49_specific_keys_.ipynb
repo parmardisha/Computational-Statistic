{
  "nbformat": 4,
  "nbformat_minor": 0,
  "metadata": {
    "colab": {
      "provenance": []
    },
    "kernelspec": {
      "name": "python3",
      "display_name": "Python 3"
    },
    "language_info": {
      "name": "python"
    }
  },
  "cells": [
    {
      "cell_type": "code",
      "source": [
        "def sort_list_of_dictionaries(list_of_dictionaries, key):\n",
        "  \"\"\"Sorts a list of dictionaries based on the values of a specific key.\n",
        "\n",
        "  Args:\n",
        "    list_of_dictionaries: A list of dictionaries.\n",
        "    key: The key to sort by.\n",
        "\n",
        "  Returns:\n",
        "    A new list of dictionaries, sorted by the values of the specified key.\n",
        "  \"\"\"\n",
        "  return sorted(list_of_dictionaries, key=lambda dictionary: dictionary[key])\n",
        "\n",
        "data = [\n",
        "    {'name': 'Disha', 'age': 20},\n",
        "    {'name': 'Nitya', 'age': 19},\n",
        "    {'name': 'Krati', 'age': 25}\n",
        "]\n",
        "\n",
        "sorted_data = sort_list_of_dictionaries(data, key='age')\n",
        "\n",
        "print(sorted_data) # Output the sorted list"
      ],
      "metadata": {
        "colab": {
          "base_uri": "https://localhost:8080/"
        },
        "id": "66chzDzha3Ta",
        "outputId": "14983fe8-16cb-4278-c806-dad5dbf12f0d"
      },
      "execution_count": 42,
      "outputs": [
        {
          "output_type": "stream",
          "name": "stdout",
          "text": [
            "[{'name': 'Nitya', 'age': 19}, {'name': 'Disha', 'age': 20}, {'name': 'Krati', 'age': 25}]\n"
          ]
        }
      ]
    }
  ]
}