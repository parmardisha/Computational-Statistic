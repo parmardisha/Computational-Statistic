{
  "cells": [
    {
      "cell_type": "code",
      "source": [
        "def find_largest(numbers):\n",
        "    largest = numbers[0]\n",
        "    for num in numbers:\n",
        "        if num > largest:\n",
        "            largest = num\n",
        "    return largest\n",
        "\n",
        "my_list = [5, 2, 8, 1, 6]\n",
        "result = find_largest(my_list)\n",
        "print(\"The largest number in the list is:\", result)"
      ],
      "metadata": {
        "colab": {
          "base_uri": "https://localhost:8080/"
        },
        "id": "saMWP9w1iY_S",
        "outputId": "f32e3791-2f40-4a99-8fe2-95d89a385195"
      },
      "execution_count": 30,
      "outputs": [
        {
          "output_type": "stream",
          "name": "stdout",
          "text": [
            "The largest number in the list is: 8\n"
          ]
        }
      ]
    }
  ],
  "metadata": {
    "colab": {
      "provenance": []
    },
    "kernelspec": {
      "display_name": "Python 3",
      "name": "python3"
    }
  },
  "nbformat": 4,
  "nbformat_minor": 0
}