{
  "nbformat": 4,
  "nbformat_minor": 0,
  "metadata": {
    "colab": {
      "provenance": []
    },
    "kernelspec": {
      "name": "python3",
      "display_name": "Python 3"
    },
    "language_info": {
      "name": "python"
    }
  },
  "cells": [
    {
      "cell_type": "code",
      "source": [
        "class shape :\n",
        "    def __init__(self , color=\"black\"):\n",
        "        self.color=color\n",
        "\n",
        "    def display_color(self):\n",
        "        print(f\"the color of the shape is {self.color}\")\n",
        "\n",
        "import math\n",
        "\n",
        "\n",
        "class circle(shape):\n",
        "    def __init__(self, radius ,color=\"black\"):\n",
        "        super().__init__(color)\n",
        "        self.radius=radius\n",
        "\n",
        "    def area(self):\n",
        "        return math.pi *( self.radius ** 2)\n",
        "\n",
        "    def perimeter(self):\n",
        "        return 2* math.pi * self.radius\n",
        "\n",
        "    def display_info(self):\n",
        "        print(f\"circle with radius: {self.radius}\")\n",
        "        print(f\"circle : {circle.color}\")\n",
        "        print(f\"circle area :{circle.area():}\")\n",
        "        print(f\"circle perimeter : {circle.perimeter():}\")\n",
        "\n",
        "circle=circle(radius=5,color=\"blue\")\n",
        "\n",
        "circle.display_info()\n"
      ],
      "metadata": {
        "colab": {
          "base_uri": "https://localhost:8080/"
        },
        "id": "F3C56_akVnS7",
        "outputId": "bca980d8-9c95-4705-f23c-7bfa2a6a0d36"
      },
      "execution_count": 27,
      "outputs": [
        {
          "output_type": "stream",
          "name": "stdout",
          "text": [
            "circle with radius: 5\n",
            "circle : blue\n",
            "circle area :78.53981633974483\n",
            "circle perimeter : 31.41592653589793\n"
          ]
        }
      ]
    }
  ]
}