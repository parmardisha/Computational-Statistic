{
  "nbformat": 4,
  "nbformat_minor": 0,
  "metadata": {
    "colab": {
      "provenance": []
    },
    "kernelspec": {
      "name": "python3",
      "display_name": "Python 3"
    },
    "language_info": {
      "name": "python"
    }
  },
  "cells": [
    {
      "cell_type": "code",
      "source": [
        "# Create a list of numbers.\n",
        "numbers = [1, 2, 3, 4, 5]\n",
        "\n",
        "# Print the original list.\n",
        "print(\"Original list:\", numbers)\n",
        "\n",
        "# Modify the first item of the list.\n",
        "numbers[0] = 10\n",
        "\n",
        "# Print the modified list.\n",
        "print(\"Modified list:\", numbers)\n",
        "\n",
        "# Modify the list using a loop to multiply each number by 2\n",
        "for i in range(len(numbers)):\n",
        "    numbers[i] *= 2\n",
        "\n",
        "print(\"Modified list (x2):\", numbers)"
      ],
      "metadata": {
        "colab": {
          "base_uri": "https://localhost:8080/"
        },
        "id": "6UEL5yUeeJJC",
        "outputId": "3d7548ce-9db5-4770-c051-3264095aa679"
      },
      "execution_count": 47,
      "outputs": [
        {
          "output_type": "stream",
          "name": "stdout",
          "text": [
            "Original list: [1, 2, 3, 4, 5]\n",
            "Modified list: [10, 2, 3, 4, 5]\n",
            "Modified list (x2): [20, 4, 6, 8, 10]\n"
          ]
        }
      ]
    }
  ]
}