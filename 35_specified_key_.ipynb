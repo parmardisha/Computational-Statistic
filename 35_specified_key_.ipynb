{
  "nbformat": 4,
  "nbformat_minor": 0,
  "metadata": {
    "colab": {
      "provenance": []
    },
    "kernelspec": {
      "name": "python3",
      "display_name": "Python 3"
    },
    "language_info": {
      "name": "python"
    }
  },
  "cells": [
    {
      "cell_type": "code",
      "source": [
        "def sort_list_of_dictionaries(list_of_dictionaries, key):\n",
        "  \"\"\"Sorts a list of dictionaries by a specified key.\n",
        "\n",
        "  Args:\n",
        "    list_of_dictionaries: A list of dictionaries.\n",
        "    key: The key to sort by.\n",
        "\n",
        "  Returns:\n",
        "    A new list of dictionaries, sorted by the specified key.\n",
        "  \"\"\"\n",
        "  return sorted(list_of_dictionaries, key=lambda dictionary: dictionary[key])\n",
        "\n",
        "# Example usage:\n",
        "my_list = [{'name': 'Alice', 'age': 30}, {'name': 'Disha', 'age': 20}, {'name': 'Priya', 'age': 25}]\n",
        "\n",
        "sorted_list = sort_list_of_dictionaries(my_list, 'age')\n",
        "\n",
        "print(sorted_list) # Output: [{'name': 'Disha', 'age': 20}, {'name': 'Dolly', 'age': 15}, {'name': 'Priya', 'age': 25}]"
      ],
      "metadata": {
        "colab": {
          "base_uri": "https://localhost:8080/"
        },
        "id": "Osi-KQOShyiK",
        "outputId": "a3dbca78-a61a-4ff6-a376-3d975392eb8f"
      },
      "execution_count": 55,
      "outputs": [
        {
          "output_type": "stream",
          "name": "stdout",
          "text": [
            "[{'name': 'Disha', 'age': 20}, {'name': 'Priya', 'age': 25}, {'name': 'Alice', 'age': 30}]\n"
          ]
        }
      ]
    }
  ]
}