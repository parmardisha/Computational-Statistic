{
  "nbformat": 4,
  "nbformat_minor": 0,
  "metadata": {
    "colab": {
      "provenance": []
    },
    "kernelspec": {
      "name": "python3",
      "display_name": "Python 3"
    },
    "language_info": {
      "name": "python"
    }
  },
  "cells": [
    {
      "cell_type": "code",
      "source": [
        "import math\n",
        "\n",
        "# Sample list of coordinates as tuples\n",
        "coordinates = [(2, 3), (1, 5), (4, 2), (3, 1)]\n",
        "\n",
        "# Sort the coordinates based on the x-coordinate\n",
        "coordinates.sort()\n",
        "print(\"Sorted by x-coordinate:\", coordinates)\n",
        "\n",
        "# Sort the coordinates based on the y-coordinate\n",
        "# Using a lambda function as the key for sorting\n",
        "coordinates.sort(key=lambda coord: coord[1])\n",
        "print(\"Sorted by y-coordinate:\", coordinates)\n",
        "\n",
        "# Sort the coordinates based on distance from the origin (0, 0)\n",
        "# Using the Euclidean distance formula\n",
        "coordinates.sort(key=lambda coord: math.sqrt(coord[0]**2 + coord[1]**2))\n",
        "print(\"Sorted by distance from origin:\", coordinates)\n",
        "\n",
        "# Sort the coordinates in counter-clockwise order\n",
        "# around the origin (0, 0) using atan2\n",
        "coordinates.sort(key=lambda coord: math.atan2(coord[1], coord[0]))\n",
        "print(\"Sorted counter-clockwise around origin:\", coordinates)"
      ],
      "metadata": {
        "id": "E6UkuwO3d3aS",
        "outputId": "e55c2063-712f-4983-b926-305f88baa789",
        "colab": {
          "base_uri": "https://localhost:8080/"
        }
      },
      "execution_count": 46,
      "outputs": [
        {
          "output_type": "stream",
          "name": "stdout",
          "text": [
            "Sorted by x-coordinate: [(1, 5), (2, 3), (3, 1), (4, 2)]\n",
            "Sorted by y-coordinate: [(3, 1), (4, 2), (2, 3), (1, 5)]\n",
            "Sorted by distance from origin: [(3, 1), (2, 3), (4, 2), (1, 5)]\n",
            "Sorted counter-clockwise around origin: [(3, 1), (4, 2), (2, 3), (1, 5)]\n"
          ]
        }
      ]
    }
  ]
}