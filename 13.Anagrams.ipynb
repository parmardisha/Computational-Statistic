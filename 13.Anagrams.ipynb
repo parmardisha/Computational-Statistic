{
  "cells": [
    {
      "cell_type": "code",
      "source": [
        "def is_anagram(str1, str2):\n",
        "\n",
        "  if len(str1) != len(str2):\n",
        "    return False\n",
        "\n",
        "  char_count = {}\n",
        "  for char in str1:\n",
        "    char_count[char] = char_count.get(char, 0) + 1\n",
        "\n",
        "  for char in str2:\n",
        "    if char not in char_count or char_count[char] == 0:\n",
        "      return False\n",
        "    char_count[char] -= 1\n",
        "\n",
        "  return True\n",
        "\n",
        "\n",
        "string1 = input(\"Enter the first string: \")\n",
        "string2 = input(\"Enter the second string: \")\n",
        "\n",
        "if is_anagram(string1, string2):\n",
        "  print(\"The strings are anagrams.\")\n",
        "else:\n",
        "  print(\"The strings are not anagrams.\")"
      ],
      "metadata": {
        "colab": {
          "base_uri": "https://localhost:8080/"
        },
        "id": "ZUmQWI4Ncg1U",
        "outputId": "76aa4411-1736-4134-959e-fb7eb60bc699"
      },
      "execution_count": 16,
      "outputs": [
        {
          "output_type": "stream",
          "name": "stdout",
          "text": [
            "Enter the first string: cat\n",
            "Enter the second string: act\n",
            "The strings are anagrams.\n"
          ]
        }
      ]
    }
  ],
  "metadata": {
    "colab": {
      "provenance": []
    },
    "kernelspec": {
      "display_name": "Python 3",
      "name": "python3"
    }
  },
  "nbformat": 4,
  "nbformat_minor": 0
}