{
  "nbformat": 4,
  "nbformat_minor": 0,
  "metadata": {
    "colab": {
      "provenance": []
    },
    "kernelspec": {
      "name": "python3",
      "display_name": "Python 3"
    },
    "language_info": {
      "name": "python"
    }
  },
  "cells": [
    {
      "cell_type": "code",
      "source": [
        "import unittest\n",
        "\n",
        "def calculate(num1, num2, operator):\n",
        "    if operator == '+':\n",
        "        return num1 + num2\n",
        "    elif operator == '-':\n",
        "        return num1 - num2\n",
        "    elif operator == '*':\n",
        "        return num1 * num2\n",
        "    elif operator == '/':\n",
        "        if num2 == 0:\n",
        "            return \"Error: Division by zero\"\n",
        "        else:\n",
        "            return num1 / num2\n",
        "    else:\n",
        "        return \"Invalid operator\"\n",
        "\n",
        "class CalculatorTest(unittest.TestCase):\n",
        "    def test_addition(self):\n",
        "        self.assertEqual(calculate(2, 3, '+'), 5)\n",
        "\n",
        "    def test_subtraction(self):\n",
        "        self.assertEqual(calculate(5, 2, '-'), 3)\n",
        "\n",
        "    def test_multiplication(self):\n",
        "        self.assertEqual(calculate(2, 3, '*'), 6)\n",
        "\n",
        "    def test_division(self):\n",
        "        self.assertEqual(calculate(6, 2, '/'), 3)\n",
        "\n",
        "    def test_division_by_zero(self):\n",
        "        self.assertEqual(calculate(10, 0, '/'), \"Error: Division by zero\")\n",
        "\n",
        "    def test_invalid_operator(self):\n",
        "        # Added the closing single quote to the string\n",
        "        self.assertEqual(calculate(2, 3, '^'), \"Invalid operator\")\n",
        "\n",
        "if __name__ == '__main__':\n",
        "    unittest.main(argv=['first-arg-is-ignored'], exit=False) # exit=False to prevent SystemExit in interactive sessions\n"
      ],
      "metadata": {
        "id": "TdceUgH9RU5d",
        "outputId": "03e55aab-60d7-4478-87b9-460997352736",
        "colab": {
          "base_uri": "https://localhost:8080/"
        }
      },
      "execution_count": 15,
      "outputs": [
        {
          "output_type": "stream",
          "name": "stderr",
          "text": [
            "............\n",
            "----------------------------------------------------------------------\n",
            "Ran 12 tests in 0.022s\n",
            "\n",
            "OK\n"
          ]
        }
      ]
    }
  ]
}