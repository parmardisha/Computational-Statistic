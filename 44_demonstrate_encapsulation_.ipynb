{
  "nbformat": 4,
  "nbformat_minor": 0,
  "metadata": {
    "colab": {
      "provenance": []
    },
    "kernelspec": {
      "name": "python3",
      "display_name": "Python 3"
    },
    "language_info": {
      "name": "python"
    }
  },
  "cells": [
    {
      "cell_type": "code",
      "source": [
        "class account :\n",
        "    def __init__(self,account_number,initial_balance):\n",
        "        self.__account_number =account_number #private attribute\n",
        "        self.__balance=initial_balance  # Making balance private and consistent with usage in other methods\n",
        "\n",
        "    def deposit(self,amount):\n",
        "        if amount > 0:\n",
        "            self.__balance += amount #Using __balance for consistency\n",
        "            print(f'depositrd:{amount}. new balance: {self.__balance}')\n",
        "        else:\n",
        "            print(\"invalideamount.deposit faild.\")\n",
        "\n",
        "    def withdraw(self,amount):\n",
        "        if amount>0 and amount<=self.__balance:\n",
        "            self.__balance -= amount #Using __balance for consistency\n",
        "            print(f\"withdrew: {amount}.new balance: {self.__balance}\")\n",
        "        else:\n",
        "            print(\"invalide amount or insufficicet balance . withdrawal faild. \")\n",
        "\n",
        "    def get_balance(self):\n",
        "        return self.__balance\n",
        "\n",
        "    def get_account_number(self):\n",
        "        return self.__account_number\n",
        "\n",
        "account= account(\"123456789\",1000)\n",
        "\n",
        "print(f\"account number:{account.get_account_number()}\")\n",
        "print(f\"initial balance: {account.get_balance()}\")\n",
        "account.deposit(400)\n",
        "account.withdraw(200)\n",
        "print(f\"final balnce :{account.get_balance()}\")"
      ],
      "metadata": {
        "colab": {
          "base_uri": "https://localhost:8080/"
        },
        "id": "3-l40ajjWUdE",
        "outputId": "1cce3dae-8c16-4e01-bea2-000ae4741f54"
      },
      "execution_count": 29,
      "outputs": [
        {
          "output_type": "stream",
          "name": "stdout",
          "text": [
            "account number:123456789\n",
            "initial balance: 1000\n",
            "depositrd:400. new balance: 1400\n",
            "withdrew: 200.new balance: 1200\n",
            "final balnce :1200\n"
          ]
        }
      ]
    }
  ]
}