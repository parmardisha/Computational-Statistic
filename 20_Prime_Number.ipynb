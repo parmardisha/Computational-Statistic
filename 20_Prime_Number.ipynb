{
  "cells": [
    {
      "cell_type": "code",
      "source": [
        "def prime_numbers(limit):\n",
        "  primes = []\n",
        "  for num in range(2, limit+1):\n",
        "    for i in range(2, int(num**0.5)+1):\n",
        "      if num % i == 0:\n",
        "        break\n",
        "    else:\n",
        "      primes.append(num)\n",
        "  return primes\n",
        "\n",
        "print(prime_numbers(20))"
      ],
      "metadata": {
        "colab": {
          "base_uri": "https://localhost:8080/"
        },
        "id": "ueTgfUnLhP6M",
        "outputId": "a2c0ba0c-ff11-47bd-c3ff-8550297bfd9a"
      },
      "execution_count": 25,
      "outputs": [
        {
          "output_type": "stream",
          "name": "stdout",
          "text": [
            "[2, 3, 5, 7, 11, 13, 17, 19]\n"
          ]
        }
      ]
    }
  ],
  "metadata": {
    "colab": {
      "provenance": []
    },
    "kernelspec": {
      "display_name": "Python 3",
      "name": "python3"
    }
  },
  "nbformat": 4,
  "nbformat_minor": 0
}