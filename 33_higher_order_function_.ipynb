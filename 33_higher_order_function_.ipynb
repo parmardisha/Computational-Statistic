{
  "nbformat": 4,
  "nbformat_minor": 0,
  "metadata": {
    "colab": {
      "provenance": []
    },
    "kernelspec": {
      "name": "python3",
      "display_name": "Python 3"
    },
    "language_info": {
      "name": "python"
    }
  },
  "cells": [
    {
      "cell_type": "code",
      "source": [
        "def apply_to_list(func, my_list):\n",
        "  \"\"\"Applies a function to each element of a list.\n",
        "\n",
        "  Args:\n",
        "    func: The function to apply.\n",
        "    my_list: The list to apply the function to.\n",
        "\n",
        "  Returns:\n",
        "    A new list with the function applied to each element of the original list.\n",
        "  \"\"\"\n",
        "  return [func(x) for x in my_list]\n",
        "\n",
        "def square(x):\n",
        "  # Indented the return statement within the square function\n",
        "  return x * x\n",
        "\n",
        "numbers = [1, 2, 3, 4, 5]\n",
        "squared_numbers = apply_to_list(square, numbers)\n",
        "#To see the output, run the code.\n",
        "\n",
        "# Print the output:\n",
        "print(squared_numbers)"
      ],
      "metadata": {
        "colab": {
          "base_uri": "https://localhost:8080/"
        },
        "id": "TiDKEDL-fX7J",
        "outputId": "0d05cc4d-053d-4099-cd3e-a62a6cac3a5f"
      },
      "execution_count": 51,
      "outputs": [
        {
          "output_type": "stream",
          "name": "stdout",
          "text": [
            "[1, 4, 9, 16, 25]\n"
          ]
        }
      ]
    }
  ]
}