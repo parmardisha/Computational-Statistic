{
  "cells": [
    {
      "cell_type": "code",
      "source": [
        "grade = input(\"Enter your grade (A, B, C, D, F): \")\n",
        "\n",
        "if grade == 'A':\n",
        "  print(\"Excellent job!\")\n",
        "elif grade == 'B':\n",
        "  print(\"Good job!\")\n",
        "elif grade == 'C':\n",
        "  print(\"You can do better.\")\n",
        "elif grade == 'D' or grade == 'F':\n",
        "  print(\"You need to study more.\")\n",
        "else:\n",
        "  print(\"Invalid grade.\")"
      ],
      "metadata": {
        "colab": {
          "base_uri": "https://localhost:8080/"
        },
        "id": "z1gsiRV3acv-",
        "outputId": "85f23a00-05b2-4671-c8af-3d215b9dead8"
      },
      "execution_count": 5,
      "outputs": [
        {
          "output_type": "stream",
          "name": "stdout",
          "text": [
            "Enter your grade (A, B, C, D, F): A\n",
            "Excellent job!\n"
          ]
        }
      ]
    }
  ],
  "metadata": {
    "colab": {
      "provenance": []
    },
    "kernelspec": {
      "display_name": "Python 3",
      "name": "python3"
    }
  },
  "nbformat": 4,
  "nbformat_minor": 0
}