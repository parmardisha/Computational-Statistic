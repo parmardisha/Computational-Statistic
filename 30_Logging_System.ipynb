{
  "nbformat": 4,
  "nbformat_minor": 0,
  "metadata": {
    "colab": {
      "provenance": []
    },
    "kernelspec": {
      "name": "python3",
      "display_name": "Python 3"
    },
    "language_info": {
      "name": "python"
    }
  },
  "cells": [
    {
      "cell_type": "code",
      "source": [
        "import logging\n",
        "\n",
        "def log_function_call(func):\n",
        "  def wrapper(*args, **kwargs):\n",
        "    print(f\"Calling {func.__name__} with args: {args}, kwargs: {kwargs}\")\n",
        "    result = func(*args, **kwargs)\n",
        "    print(f\"{func.__name__} returned: {result}\")\n",
        "    return result\n",
        "  return wrapper\n",
        "\n",
        "@log_function_call\n",
        "def add(x, y):\n",
        "  return x + y\n",
        "\n",
        "@log_function_call\n",
        "def subtract(x, y):\n",
        "  return x - y\n",
        "\n",
        "if __name__ == \"__main__\":\n",
        "  result_add = add(5, 3)\n",
        "  result_subtract = subtract(10, 4)"
      ],
      "metadata": {
        "colab": {
          "base_uri": "https://localhost:8080/"
        },
        "id": "EcjtO6pnTXvX",
        "outputId": "13c22293-84ab-4d20-ce04-ce66552c3354"
      },
      "execution_count": 21,
      "outputs": [
        {
          "output_type": "stream",
          "name": "stdout",
          "text": [
            "Calling add with args: (5, 3), kwargs: {}\n",
            "add returned: 8\n",
            "Calling subtract with args: (10, 4), kwargs: {}\n",
            "subtract returned: 6\n"
          ]
        }
      ]
    }
  ]
}