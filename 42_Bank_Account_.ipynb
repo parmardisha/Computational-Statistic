{
  "nbformat": 4,
  "nbformat_minor": 0,
  "metadata": {
    "colab": {
      "provenance": []
    },
    "kernelspec": {
      "name": "python3",
      "display_name": "Python 3"
    },
    "language_info": {
      "name": "python"
    }
  },
  "cells": [
    {
      "cell_type": "code",
      "source": [
        "class BankAccount:\n",
        "    def __init__(self, account_holder, balance=0):\n",
        "        self.account_holder = account_holder\n",
        "        self.balance = balance\n",
        "\n",
        "    def deposit(self, amount):\n",
        "        if amount > 0:\n",
        "            self.balance += amount\n",
        "            print(f\"${amount} deposited successfully. New balance: ${self.balance:.2f}\")\n",
        "        else:\n",
        "            print(\"Deposit amount must be positive.\")\n",
        "\n",
        "    def withdraw(self, amount):\n",
        "        if amount > 0:\n",
        "            if amount <= self.balance:\n",
        "                self.balance -= amount  # Subtract the amount from the balance\n",
        "                print(f\"${amount} withdrawn successfully. New balance: ${self.balance:.2f}\")\n",
        "            else:\n",
        "                print(\"Insufficient funds.\")\n",
        "        else:\n",
        "            print(\"Withdrawal amount must be positive.\")\n",
        "\n",
        "    def display_balance(self):\n",
        "        print(f\"Current balance: ${self.balance:.2f}\")\n",
        "\n",
        "# Example usage:\n",
        "my_account = BankAccount(\"Alice\", 1000)\n",
        "my_account.deposit(500)\n",
        "my_account.withdraw(200)\n",
        "my_account.display_balance()"
      ],
      "metadata": {
        "colab": {
          "base_uri": "https://localhost:8080/"
        },
        "id": "-Emb5k0uVV6k",
        "outputId": "4b253b91-b4e8-4494-8bc4-10386da685f4"
      },
      "execution_count": 26,
      "outputs": [
        {
          "output_type": "stream",
          "name": "stdout",
          "text": [
            "$500 deposited successfully. New balance: $1500.00\n",
            "$200 withdrawn successfully. New balance: $1300.00\n",
            "Current balance: $1300.00\n"
          ]
        }
      ]
    }
  ]
}