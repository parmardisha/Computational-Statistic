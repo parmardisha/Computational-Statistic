{
  "cells": [
    {
      "cell_type": "code",
      "source": [
        "num1 = float(input(\"Enter the first number: \"))\n",
        "num2 = float(input(\"Enter the second number: \"))\n",
        "\n",
        "operator = input(\"Enter the operator (+, -, *, /): \")\n",
        "\n",
        "if operator == '+':\n",
        "  result = num1 + num2\n",
        "elif operator == '-':\n",
        "  result = num1 - num2\n",
        "elif operator == '*':\n",
        "  result = num1 * num2\n",
        "elif operator == '/':\n",
        "  if num2 == 0:\n",
        "    print(\"Error: Division by zero\")\n",
        "  else:\n",
        "    result = num1 / num2\n",
        "else:\n",
        "  print(\"Invalid operator\")\n",
        "\n",
        "if operator in ('+', '-', '*', '/'):\n",
        "  print(\"Result:\", result)"
      ],
      "metadata": {
        "id": "hZgYfYeDWtGs"
      },
      "execution_count": null,
      "outputs": []
    }
  ],
  "metadata": {
    "colab": {
      "provenance": []
    },
    "kernelspec": {
      "display_name": "Python 3",
      "name": "python3"
    }
  },
  "nbformat": 4,
  "nbformat_minor": 0
}