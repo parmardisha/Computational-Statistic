{
  "nbformat": 4,
  "nbformat_minor": 0,
  "metadata": {
    "colab": {
      "provenance": []
    },
    "kernelspec": {
      "name": "python3",
      "display_name": "Python 3"
    },
    "language_info": {
      "name": "python"
    }
  },
  "cells": [
    {
      "cell_type": "code",
      "source": [
        "from abc import ABC,abstractmethod\n",
        "\n",
        "class animal(ABC):\n",
        "    @abstractmethod\n",
        "    def make_sound(self):\n",
        "        pass\n",
        "\n",
        "    @abstractmethod\n",
        "    def move(self):\n",
        "        pass\n",
        "\n",
        "\n",
        "class dog(animal):\n",
        "    def make_sound(self):\n",
        "        return \"woof!\"\n",
        "\n",
        "    def move(self):\n",
        "        return \"the dog runs.\"\n",
        "\n",
        "\n",
        "class cat(animal):\n",
        "    def make_sound(self):\n",
        "        return 'meow!'\n",
        "\n",
        "    def move(self):\n",
        "        return \"the dog runs.\"\n",
        "    def move(self):\n",
        "        return \"the cat runs.\"\n",
        "\n",
        "dog=dog()\n",
        "cat=cat()\n",
        "\n",
        "print(f\"dog: {dog.make_sound()}, {dog.move()}\")\n",
        "print(f\"cat: {cat.make_sound()}, {cat.move()}\")\n",
        ""
      ],
      "metadata": {
        "colab": {
          "base_uri": "https://localhost:8080/"
        },
        "id": "ShIW7xZAWnrz",
        "outputId": "998a78fc-fe88-4cd8-b8bc-7584ea39b3a6"
      },
      "execution_count": 33,
      "outputs": [
        {
          "output_type": "stream",
          "name": "stdout",
          "text": [
            "dog: woof!, the dog runs.\n",
            "cat: meow!, the cat runs.\n"
          ]
        }
      ]
    }
  ]
}