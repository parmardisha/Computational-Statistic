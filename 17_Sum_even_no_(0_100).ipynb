{
  "cells": [
    {
      "cell_type": "code",
      "source": [
        "total = 0\n",
        "for number in range(2, 101, 2):\n",
        "  total += number\n",
        "print(total)"
      ],
      "metadata": {
        "colab": {
          "base_uri": "https://localhost:8080/"
        },
        "id": "BLzLijymgcQ1",
        "outputId": "1515e878-30fe-4c2c-bbce-5308e8e182b9"
      },
      "execution_count": 20,
      "outputs": [
        {
          "output_type": "stream",
          "name": "stdout",
          "text": [
            "2550\n"
          ]
        }
      ]
    }
  ],
  "metadata": {
    "colab": {
      "provenance": []
    },
    "kernelspec": {
      "display_name": "Python 3",
      "name": "python3"
    }
  },
  "nbformat": 4,
  "nbformat_minor": 0
}